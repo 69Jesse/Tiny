{
 "cells": [
  {
   "cell_type": "code",
   "execution_count": 109,
   "metadata": {},
   "outputs": [
    {
     "name": "stdout",
     "output_type": "stream",
     "text": [
      "Epoch 1/10\n",
      "\u001b[1m3125/3125\u001b[0m \u001b[32m━━━━━━━━━━━━━━━━━━━━\u001b[0m\u001b[37m\u001b[0m \u001b[1m6s\u001b[0m 2ms/step - accuracy: 0.1128 - loss: 3.4206\n",
      "Epoch 2/10\n",
      "\u001b[1m3125/3125\u001b[0m \u001b[32m━━━━━━━━━━━━━━━━━━━━\u001b[0m\u001b[37m\u001b[0m \u001b[1m5s\u001b[0m 2ms/step - accuracy: 0.4845 - loss: 1.7486\n",
      "Epoch 3/10\n",
      "\u001b[1m3125/3125\u001b[0m \u001b[32m━━━━━━━━━━━━━━━━━━━━\u001b[0m\u001b[37m\u001b[0m \u001b[1m5s\u001b[0m 2ms/step - accuracy: 0.6436 - loss: 1.2250\n",
      "Epoch 4/10\n",
      "\u001b[1m3125/3125\u001b[0m \u001b[32m━━━━━━━━━━━━━━━━━━━━\u001b[0m\u001b[37m\u001b[0m \u001b[1m5s\u001b[0m 2ms/step - accuracy: 0.7473 - loss: 0.9398\n",
      "Epoch 5/10\n",
      "\u001b[1m3125/3125\u001b[0m \u001b[32m━━━━━━━━━━━━━━━━━━━━\u001b[0m\u001b[37m\u001b[0m \u001b[1m5s\u001b[0m 2ms/step - accuracy: 0.7741 - loss: 0.8295\n",
      "Epoch 6/10\n",
      "\u001b[1m3125/3125\u001b[0m \u001b[32m━━━━━━━━━━━━━━━━━━━━\u001b[0m\u001b[37m\u001b[0m \u001b[1m5s\u001b[0m 2ms/step - accuracy: 0.8069 - loss: 0.7258\n",
      "Epoch 7/10\n",
      "\u001b[1m3125/3125\u001b[0m \u001b[32m━━━━━━━━━━━━━━━━━━━━\u001b[0m\u001b[37m\u001b[0m \u001b[1m5s\u001b[0m 2ms/step - accuracy: 0.8548 - loss: 0.6192\n",
      "Epoch 8/10\n",
      "\u001b[1m3125/3125\u001b[0m \u001b[32m━━━━━━━━━━━━━━━━━━━━\u001b[0m\u001b[37m\u001b[0m \u001b[1m5s\u001b[0m 2ms/step - accuracy: 0.8458 - loss: 0.6117\n",
      "Epoch 9/10\n",
      "\u001b[1m3125/3125\u001b[0m \u001b[32m━━━━━━━━━━━━━━━━━━━━\u001b[0m\u001b[37m\u001b[0m \u001b[1m5s\u001b[0m 2ms/step - accuracy: 0.8692 - loss: 0.5549\n",
      "Epoch 10/10\n",
      "\u001b[1m3125/3125\u001b[0m \u001b[32m━━━━━━━━━━━━━━━━━━━━\u001b[0m\u001b[37m\u001b[0m \u001b[1m5s\u001b[0m 2ms/step - accuracy: 0.9036 - loss: 0.4821\n",
      "\u001b[1m313/313\u001b[0m \u001b[32m━━━━━━━━━━━━━━━━━━━━\u001b[0m\u001b[37m\u001b[0m \u001b[1m0s\u001b[0m 693us/step - accuracy: 0.9463 - loss: 0.4058\n"
     ]
    },
    {
     "data": {
      "text/plain": [
       "[0.40544769167900085, 0.9460999965667725]"
      ]
     },
     "execution_count": 109,
     "metadata": {},
     "output_type": "execute_result"
    }
   ],
   "source": [
    "from typing import TYPE_CHECKING\n",
    "if TYPE_CHECKING:\n",
    "    from tensorflow.python.keras import models, layers\n",
    "else:\n",
    "    from tensorflow.keras import models, layers\n",
    "import numpy as np\n",
    "\n",
    "\n",
    "train_in = np.random.randint(0, 91, (100_000, 1))\n",
    "train_out = train_in.flatten()\n",
    "\n",
    "test_in = np.random.randint(0, 91, (10_000, 1))\n",
    "test_out = test_in.flatten()\n",
    "\n",
    "\n",
    "model = models.Sequential([\n",
    "    layers.Flatten(input_shape=(1, 1)),\n",
    "    layers.Dense(1024, activation='sigmoid'),\n",
    "    layers.Dense(512, activation='sigmoid'),\n",
    "    layers.Dense(256, activation='sigmoid'),\n",
    "    layers.Dense(128, activation='sigmoid'),\n",
    "    layers.Dense(64, activation='sigmoid'),\n",
    "    layers.Dense(91, activation='softmax'),\n",
    "])\n",
    "model.compile(optimizer='adam', loss='sparse_categorical_crossentropy', metrics=['accuracy'])\n",
    "model.fit(train_in, train_out, epochs=10, batch_size=32)\n",
    "model.evaluate(test_in, test_out)\n",
    "\n"
   ]
  },
  {
   "cell_type": "code",
   "execution_count": 112,
   "metadata": {},
   "outputs": [
    {
     "name": "stdout",
     "output_type": "stream",
     "text": [
      "\u001b[1m1/1\u001b[0m \u001b[32m━━━━━━━━━━━━━━━━━━━━\u001b[0m\u001b[37m\u001b[0m \u001b[1m0s\u001b[0m 9ms/step\n",
      "You are 90 years old!\n"
     ]
    }
   ],
   "source": [
    "age = 90\n",
    "prediction = model.predict(np.array([[age]]))\n",
    "assert prediction is not None\n",
    "print(f'You are {np.argmax(prediction[0])} years old!')"
   ]
  }
 ],
 "metadata": {
  "kernelspec": {
   "display_name": "Python 3",
   "language": "python",
   "name": "python3"
  },
  "language_info": {
   "codemirror_mode": {
    "name": "ipython",
    "version": 3
   },
   "file_extension": ".py",
   "mimetype": "text/x-python",
   "name": "python",
   "nbconvert_exporter": "python",
   "pygments_lexer": "ipython3",
   "version": "3.12.1"
  }
 },
 "nbformat": 4,
 "nbformat_minor": 2
}
