{
 "cells": [
  {
   "cell_type": "code",
   "execution_count": 14,
   "metadata": {},
   "outputs": [],
   "source": [
    "import torch\n",
    "import torchaudio\n",
    "from pydub import AudioSegment\n",
    "from gtts import gTTS\n",
    "import io\n",
    "\n",
    "def text_to_speech(message, output_file=\"output.mp3\", text_to_speech_engine=\"google\"):\n",
    "    if text_to_speech_engine == \"google\":\n",
    "        # Use Google Text-to-Speech\n",
    "        tts = gTTS(message, lang='nl')\n",
    "        tts.save(output_file)\n",
    "    elif text_to_speech_engine == \"tacotron2\":\n",
    "        # Use Tacotron2 from torchaudio\n",
    "        model, symbols, sample_rate = torch.hub.load(repo_or_dir='snakers4/silero-models', model='tts_tacotron2', language='en', verbose=False)\n",
    "        waveform, alignment, spectrogram, mel_spectrogram, stop_tokens = model.generate_spectrogram(text=message)\n",
    "        audio = torchaudio.transforms.GriffinLim(n_fft=1024, win_length=1024, hop_length=256, power=1).inverse(mel_spectrogram)\n",
    "        torchaudio.save(output_file, audio, sample_rate)\n",
    "    else:\n",
    "        raise ValueError(\"Invalid text-to-speech engine specified\")\n"
   ]
  },
  {
   "cell_type": "code",
   "execution_count": 16,
   "metadata": {},
   "outputs": [
    {
     "data": {
      "text/html": [
       "\n",
       "                <audio  controls=\"controls\" >\n",
       "                    <source src=\"data:audio/mpeg;base64,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\" type=\"audio/mpeg\" />\n",
       "                    Your browser does not support the audio element.\n",
       "                </audio>\n",
       "              "
      ],
      "text/plain": [
       "<IPython.lib.display.Audio object>"
      ]
     },
     "execution_count": 16,
     "metadata": {},
     "output_type": "execute_result"
    }
   ],
   "source": [
    "import IPython\n",
    "\n",
    "message = 'pauper anthony'\n",
    "file = 'output.mp3'\n",
    "text_to_speech(message, output_file=file, text_to_speech_engine=\"google\")\n",
    "IPython.display.Audio(file)  # type: ignore\n"
   ]
  }
 ],
 "metadata": {
  "kernelspec": {
   "display_name": "Python 3",
   "language": "python",
   "name": "python3"
  },
  "language_info": {
   "codemirror_mode": {
    "name": "ipython",
    "version": 3
   },
   "file_extension": ".py",
   "mimetype": "text/x-python",
   "name": "python",
   "nbconvert_exporter": "python",
   "pygments_lexer": "ipython3",
   "version": "3.12.1"
  }
 },
 "nbformat": 4,
 "nbformat_minor": 2
}
